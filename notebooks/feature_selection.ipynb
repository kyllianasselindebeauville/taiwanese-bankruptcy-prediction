{
 "cells": [
  {
   "cell_type": "markdown",
   "id": "831cc90a",
   "metadata": {},
   "source": [
    "# Feature Selection"
   ]
  },
  {
   "cell_type": "markdown",
   "id": "70cd7b7a",
   "metadata": {},
   "source": [
    "We want to determine which features are the most relevant to display on our site."
   ]
  },
  {
   "cell_type": "markdown",
   "id": "b594d6cd",
   "metadata": {},
   "source": [
    "## Setup"
   ]
  },
  {
   "cell_type": "code",
   "execution_count": 1,
   "id": "9d249a00",
   "metadata": {},
   "outputs": [],
   "source": [
    "# !pip install numpy\n",
    "# !pip install pandas\n",
    "# !pip install scikit-learn"
   ]
  },
  {
   "cell_type": "code",
   "execution_count": 2,
   "id": "2ad7ac58",
   "metadata": {},
   "outputs": [],
   "source": [
    "import numpy as np\n",
    "import pandas as pd\n",
    "from sklearn.compose import ColumnTransformer\n",
    "from sklearn.feature_selection import f_classif\n",
    "from sklearn.feature_selection import SelectKBest\n",
    "from sklearn.model_selection import train_test_split\n",
    "from sklearn.preprocessing import StandardScaler"
   ]
  },
  {
   "cell_type": "markdown",
   "id": "1d2fe90e",
   "metadata": {},
   "source": [
    "## Data Collection"
   ]
  },
  {
   "cell_type": "code",
   "execution_count": 3,
   "id": "92be74ad",
   "metadata": {},
   "outputs": [],
   "source": [
    "def load_data() -> pd.DataFrame:\n",
    "    data = pd.read_csv('../data/data.csv')\n",
    "    data.columns = [col.strip() for col in data.columns]\n",
    "    return data"
   ]
  },
  {
   "cell_type": "code",
   "execution_count": 4,
   "id": "b4c4cbf2",
   "metadata": {},
   "outputs": [],
   "source": [
    "df, target = load_data(), 'Bankrupt?'"
   ]
  },
  {
   "cell_type": "markdown",
   "id": "c09d12d6",
   "metadata": {},
   "source": [
    "## Data Cleaning"
   ]
  },
  {
   "cell_type": "code",
   "execution_count": 5,
   "id": "25813fa9",
   "metadata": {},
   "outputs": [],
   "source": [
    "def data_cleaning(df: pd.DataFrame) -> None:\n",
    "    # Missing values\n",
    "    mv = set()\n",
    "    for col in df:\n",
    "        num = df[col].isna().sum()\n",
    "        if num > 0:\n",
    "            print(f\"[!] {num} missing value{'s' if num > 1 else ''} in '{col}'\")\n",
    "            mv.add(col)\n",
    "    if not mv:\n",
    "        print('[✓] No missing values')\n",
    "\n",
    "    # Duplicated values\n",
    "    num = df.duplicated().sum()\n",
    "    if num > 0:\n",
    "        print(f'[!] {num} duplicated values')\n",
    "    else:\n",
    "        print('[✓] No duplicated values')\n",
    "\n",
    "    # Unique values\n",
    "    uv = set()\n",
    "    for col in df:\n",
    "        num = df[col].nunique()\n",
    "        if num == 1:\n",
    "            print(f\"[!] {num} unique value in '{col}'\")\n",
    "            uv.add(col)\n",
    "    if not uv:\n",
    "        print('[✓] No unique values')"
   ]
  },
  {
   "cell_type": "code",
   "execution_count": 6,
   "id": "49e6e6b5",
   "metadata": {},
   "outputs": [
    {
     "name": "stdout",
     "output_type": "stream",
     "text": [
      "[✓] No missing values\n",
      "[✓] No duplicated values\n",
      "[!] 1 unique value in 'Net Income Flag'\n"
     ]
    }
   ],
   "source": [
    "data_cleaning(df)"
   ]
  },
  {
   "cell_type": "code",
   "execution_count": 7,
   "id": "5985c96e",
   "metadata": {},
   "outputs": [],
   "source": [
    "df = df.drop('Net Income Flag', axis=1)"
   ]
  },
  {
   "cell_type": "code",
   "execution_count": 8,
   "id": "ab40b19a",
   "metadata": {},
   "outputs": [
    {
     "name": "stdout",
     "output_type": "stream",
     "text": [
      "[✓] No missing values\n",
      "[✓] No duplicated values\n",
      "[✓] No unique values\n"
     ]
    }
   ],
   "source": [
    "data_cleaning(df)"
   ]
  },
  {
   "cell_type": "markdown",
   "id": "d3d85e47",
   "metadata": {},
   "source": [
    "## Preprocessing"
   ]
  },
  {
   "cell_type": "markdown",
   "id": "91dd6f8c",
   "metadata": {},
   "source": [
    "**Split features and target**"
   ]
  },
  {
   "cell_type": "code",
   "execution_count": 9,
   "id": "6f4310c5",
   "metadata": {},
   "outputs": [],
   "source": [
    "def split_X_y(df: pd.DataFrame, target: str):\n",
    "    features = [col for col in df.columns if col != target]\n",
    "\n",
    "    X = df[features]\n",
    "    y = df[target]\n",
    "\n",
    "    return X, y"
   ]
  },
  {
   "cell_type": "code",
   "execution_count": 10,
   "id": "d1f59ab8",
   "metadata": {},
   "outputs": [],
   "source": [
    "X, y = split_X_y(df, 'Bankrupt?')\n",
    "\n",
    "categorical_features = X.select_dtypes(include=np.int64).columns\n",
    "numerical_features = X.select_dtypes(exclude=np.int64).columns"
   ]
  },
  {
   "cell_type": "markdown",
   "id": "d0bc4ee8",
   "metadata": {
    "id": "d0bc4ee8"
   },
   "source": [
    "**Split train and test data**"
   ]
  },
  {
   "cell_type": "code",
   "execution_count": 11,
   "id": "d42ac6d2",
   "metadata": {},
   "outputs": [],
   "source": [
    "X_train, X_test, y_train, y_test = train_test_split(X, y, test_size=.2, random_state=42, stratify=y)"
   ]
  },
  {
   "cell_type": "markdown",
   "id": "e4cc4d1d",
   "metadata": {
    "id": "e4cc4d1d"
   },
   "source": [
    "**Standardize the numeric features**"
   ]
  },
  {
   "cell_type": "code",
   "execution_count": 12,
   "id": "4d7f97f2",
   "metadata": {},
   "outputs": [],
   "source": [
    "scaler = ColumnTransformer([('num_scaler', StandardScaler(), numerical_features)], remainder='passthrough')"
   ]
  },
  {
   "cell_type": "code",
   "execution_count": 13,
   "id": "3324262f",
   "metadata": {},
   "outputs": [],
   "source": [
    "X_train = scaler.fit_transform(X_train)"
   ]
  },
  {
   "cell_type": "markdown",
   "id": "66bbe11f",
   "metadata": {
    "id": "e4cc4d1d"
   },
   "source": [
    "**Select the best features**"
   ]
  },
  {
   "cell_type": "code",
   "execution_count": 14,
   "id": "6d5fc144",
   "metadata": {},
   "outputs": [],
   "source": [
    "selection = SelectKBest(score_func=f_classif, k=15).fit(X_train, y_train)"
   ]
  },
  {
   "cell_type": "code",
   "execution_count": 15,
   "id": "0d1a5e61",
   "metadata": {},
   "outputs": [
    {
     "data": {
      "text/plain": [
       "['ROA(C) before interest and depreciation before interest',\n",
       " 'ROA(A) before interest and % after tax',\n",
       " 'ROA(B) before interest and depreciation after tax',\n",
       " 'Persistent EPS in the Last Four Seasons',\n",
       " 'Per Share Net profit before tax (Yuan ¥)',\n",
       " 'Debt ratio %',\n",
       " 'Net worth/Assets',\n",
       " 'Borrowing dependency',\n",
       " 'Net profit before tax/Paid-in capital',\n",
       " 'Working Capital to Total Assets',\n",
       " 'Current Liability to Assets',\n",
       " 'Retained Earnings to Total Assets',\n",
       " 'Current Liability to Current Assets',\n",
       " 'Liability-Assets Flag',\n",
       " 'Gross Profit to Sales']"
      ]
     },
     "execution_count": 15,
     "metadata": {},
     "output_type": "execute_result"
    }
   ],
   "source": [
    "best_features = selection.get_feature_names_out(X.columns).tolist()\n",
    "best_features"
   ]
  }
 ],
 "metadata": {
  "kernelspec": {
   "display_name": "Python 3 (ipykernel)",
   "language": "python",
   "name": "python3"
  },
  "language_info": {
   "codemirror_mode": {
    "name": "ipython",
    "version": 3
   },
   "file_extension": ".py",
   "mimetype": "text/x-python",
   "name": "python",
   "nbconvert_exporter": "python",
   "pygments_lexer": "ipython3",
   "version": "3.10.8"
  }
 },
 "nbformat": 4,
 "nbformat_minor": 5
}
